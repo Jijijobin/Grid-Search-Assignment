{
 "cells": [
  {
   "cell_type": "code",
   "execution_count": null,
   "id": "e469eb81-fa9c-4fd4-bd6e-f7164f508215",
   "metadata": {},
   "outputs": [],
   "source": [
    "import pandas as pd"
   ]
  },
  {
   "cell_type": "code",
   "execution_count": null,
   "id": "fd414cb0-197c-44bf-bd79-f1238641ec47",
   "metadata": {},
   "outputs": [],
   "source": [
    "dataset=pd.read_csv(\"insurance_pre.csv\")\n",
    "dataset"
   ]
  },
  {
   "cell_type": "code",
   "execution_count": null,
   "id": "c45497ac-b8f1-46fe-b643-59d1ed7e84b2",
   "metadata": {},
   "outputs": [],
   "source": [
    "dataset=pd.get_dummies(dataset,drop_first=True)\n",
    "dataset=dataset.astype(int)\n",
    "dataset"
   ]
  },
  {
   "cell_type": "code",
   "execution_count": null,
   "id": "564e3c63-a524-4d3a-8f0c-67e4b2a5c178",
   "metadata": {},
   "outputs": [],
   "source": [
    "independ=dataset[['age', 'bmi', 'children','sex_male', 'smoker_yes']]\n",
    "independ"
   ]
  },
  {
   "cell_type": "code",
   "execution_count": null,
   "id": "aeed1e79-7684-43a8-b471-2b967f02086d",
   "metadata": {},
   "outputs": [],
   "source": [
    "depend=dataset[['charges']]\n",
    "depend"
   ]
  },
  {
   "cell_type": "code",
   "execution_count": null,
   "id": "1e70ef86-60d1-42ba-ad00-41a61057ad84",
   "metadata": {},
   "outputs": [],
   "source": [
    "from sklearn.model_selection import GridSearchCV"
   ]
  },
  {
   "cell_type": "code",
   "execution_count": null,
   "id": "18b15f06-7c79-4069-b218-6f6bfa5ad9ad",
   "metadata": {},
   "outputs": [],
   "source": [
    "from sklearn.svm import SVR\n",
    "param={'kernel':['rbf','poly','sigmoid','linear'],'C':[10,100,1000,2000],'gamma':['auto','scale']}"
   ]
  },
  {
   "cell_type": "code",
   "execution_count": null,
   "id": "defce20a-efd4-4bf6-8a0b-a990ef6b5220",
   "metadata": {},
   "outputs": [],
   "source": [
    "grid=GridSearchCV(SVR(),param,refit=True,verbose=3,n_jobs=-1)\n",
    "grid.fit(independ,depend)"
   ]
  },
  {
   "cell_type": "code",
   "execution_count": null,
   "id": "7c9eabf7-75a4-4f27-9d9f-90eea82a650f",
   "metadata": {},
   "outputs": [],
   "source": [
    "res=grid.cv_results_\n",
    "print(\"The R_Score value for bet parameter{}:\".format(grid.best_params_))"
   ]
  },
  {
   "cell_type": "code",
   "execution_count": null,
   "id": "ec3dec39-0d3d-46db-821b-6663c65a8fd7",
   "metadata": {},
   "outputs": [],
   "source": [
    "table=pd.DataFrame.from_dict(res)"
   ]
  },
  {
   "cell_type": "code",
   "execution_count": null,
   "id": "76e47334-4de7-49cd-82f5-a2c911e0d872",
   "metadata": {},
   "outputs": [],
   "source": [
    "table"
   ]
  },
  {
   "cell_type": "code",
   "execution_count": null,
   "id": "77680879-0c71-4f3c-916b-5fc048310c36",
   "metadata": {},
   "outputs": [],
   "source": [
    "Age=input(\"Age:\")\n",
    "BMI=input(\"BMI:\")\n",
    "children=input(\"Children:\")\n",
    "sex=input(\"Male 0 or1:\")\n",
    "smoke=input(\"Smoke yes 0 or 1:\")"
   ]
  },
  {
   "cell_type": "code",
   "execution_count": null,
   "id": "a6a63003-0eb8-4529-b5fc-96e3e7307069",
   "metadata": {},
   "outputs": [],
   "source": [
    "Future_Prediction=grid.predict([[Age,BMI,children,sex,smoke]])\n",
    "print(\"Future_Prediction={}\".format(Future_Prediction))"
   ]
  },
  {
   "cell_type": "code",
   "execution_count": null,
   "id": "a4bcf8e2-c2e6-4a0f-9339-bd081af614eb",
   "metadata": {},
   "outputs": [],
   "source": []
  }
 ],
 "metadata": {
  "kernelspec": {
   "display_name": "Python 3 (ipykernel)",
   "language": "python",
   "name": "python3"
  },
  "language_info": {
   "codemirror_mode": {
    "name": "ipython",
    "version": 3
   },
   "file_extension": ".py",
   "mimetype": "text/x-python",
   "name": "python",
   "nbconvert_exporter": "python",
   "pygments_lexer": "ipython3",
   "version": "3.12.7"
  }
 },
 "nbformat": 4,
 "nbformat_minor": 5
}
